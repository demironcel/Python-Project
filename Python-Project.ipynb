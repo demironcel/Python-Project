{
 "cells": [
  {
   "cell_type": "markdown",
   "metadata": {},
   "source": [
    "# Question 1: Did Brexit Negatively Influence Financial Services Sector?"
   ]
  },
  {
   "cell_type": "code",
   "execution_count": 1,
   "metadata": {},
   "outputs": [
    {
     "name": "stderr",
     "output_type": "stream",
     "text": [
      "/opt/conda/lib/python3.9/site-packages/requests/__init__.py:102: RequestsDependencyWarning: urllib3 (1.26.9) or chardet (5.0.0)/charset_normalizer (2.0.12) doesn't match a supported version!\n",
      "  warnings.warn(\"urllib3 ({}) or chardet ({})/charset_normalizer ({}) doesn't match a supported \"\n"
     ]
    }
   ],
   "source": [
    "#List of libraries that are needed for this code:\n",
    "import requests\n",
    "import pprint as pp\n",
    "import datetime\n",
    "from datetime import date \n",
    "from datetime import datetime\n",
    "import matplotlib.pyplot as plt\n",
    "import numpy as np\n",
    "import math\n",
    "from collections import Counter\n",
    "import time\n",
    "from statistics import mean"
   ]
  },
  {
   "cell_type": "code",
   "execution_count": 2,
   "metadata": {},
   "outputs": [],
   "source": [
    "def call_api_with(url_extension):\n",
    "    your_company_house_api_key =\"02ad59c5-9212-4a34-9ecc-cfc988ec2023\"\n",
    "    login_headers = {\"Authorization\":your_company_house_api_key}\n",
    "    url = f\"https://api.companieshouse.gov.uk/{url_extension}\"\n",
    "    print(f'requesting: {url}') \n",
    "    res = requests.get(url, headers=login_headers)\n",
    "    if res.status_code == 200:\n",
    "        return res.json()\n",
    "    else:\n",
    "        print(\"status code is not 'SUCCESS 200'. Will wait 20 seconds\")\n",
    "        time.sleep(20) # sleep X seconds\n",
    "        return call_api_with(url_extension)\n",
    "    \n",
    "# test to get one company\n",
    "def get_one_test_company_or_error():\n",
    "    url = f\"search/companies?q=shop&items_per_page=1\"\n",
    "    return call_api_with(url)\n",
    "\n",
    "def search_for_companies_with_query(query, number_of_companies = 100):\n",
    "    # for simplicity round up the number of returned companies to the nearest hundred. eg. 130 becomes 200\n",
    "    page_size = 100\n",
    "    number_of_pages = math.ceil(number_of_companies / page_size) # round up\n",
    "    companies = []\n",
    "    for page_index in range(0, number_of_pages):\n",
    "        url = f\"search/companies?q={query}&items_per_page={page_size}&start_index={page_index*page_size}\"\n",
    "        companies += call_api_with(url).get('items', [])\n",
    "    return companies\n",
    "        \n",
    "# request to get company data based on company number\n",
    "def data_for_company(company_number):\n",
    "    url = f\"company/{company_number}\"\n",
    "    return call_api_with(url)\n",
    "\n",
    "#request to get status of company\n",
    "def status_of_company(company_number):\n",
    "    url = f\"company/{company_number}/company_status\"\n",
    "    return call_api_with(url)\n",
    "\n",
    "# get all persons with significant control from company which contains specific keyword\n",
    "def all_persons_in_company(company_number):\n",
    "    url = f\"company/{company_number}/persons-with-significant-control\"\n",
    "    return call_api_with(url).get('items', [])\n",
    "\n",
    "def detailed_info_about_companies_with_ids(companies_numbers):\n",
    "    results = []\n",
    "    for company_number in companies_numbers:\n",
    "        results.append(data_for_company(company_number))\n",
    "    return results"
   ]
  },
  {
   "cell_type": "code",
   "execution_count": 3,
   "metadata": {},
   "outputs": [
    {
     "name": "stdout",
     "output_type": "stream",
     "text": [
      "requesting: https://api.companieshouse.gov.uk/search/companies?q=financialservice&items_per_page=100&start_index=0\n",
      "requesting: https://api.companieshouse.gov.uk/search/companies?q=financialservice&items_per_page=100&start_index=100\n",
      "requesting: https://api.companieshouse.gov.uk/search/companies?q=financialservice&items_per_page=100&start_index=200\n",
      "requesting: https://api.companieshouse.gov.uk/search/companies?q=financialservice&items_per_page=100&start_index=300\n",
      "requesting: https://api.companieshouse.gov.uk/search/companies?q=financialservice&items_per_page=100&start_index=400\n",
      "requesting: https://api.companieshouse.gov.uk/search/companies?q=financialservice&items_per_page=100&start_index=500\n",
      "164\n"
     ]
    }
   ],
   "source": [
    "#variable is created to contain the financial services companies\n",
    "fin_companies = search_for_companies_with_query(\"financial\" + \"service\", 600)\n",
    "pp.pprint(len(fin_companies))\n"
   ]
  },
  {
   "cell_type": "code",
   "execution_count": 4,
   "metadata": {},
   "outputs": [
    {
     "name": "stdout",
     "output_type": "stream",
     "text": [
      "42\n"
     ]
    }
   ],
   "source": [
    "england_fin=[]\n",
    "for company in fin_companies:\n",
    "    if 'country' in company[\"address\"]:\n",
    "        if company[\"address\"]['country']=='England':\n",
    "            england_fin.append(company)\n",
    "print(len(england_fin))            \n",
    "#from the 600 companies that are pulled, 186 of them are located in England"
   ]
  },
  {
   "cell_type": "code",
   "execution_count": 5,
   "metadata": {},
   "outputs": [
    {
     "name": "stdout",
     "output_type": "stream",
     "text": [
      "19\n",
      "23\n"
     ]
    }
   ],
   "source": [
    "#variable is created to store a list of statuses (active or dissolved) for the financial services companies\n",
    "status_fin = [company['company_status'] \n",
    "            for company in england_fin]\n",
    "\n",
    "#function that returns the number of instances of a particular status in a list  is defined\n",
    "def fin_status(status_fin, status_name):\n",
    "    fin_this_status = [status_name\n",
    "                                    for i in status_fin\n",
    "                                    if i == status_name]\n",
    "    \n",
    "    if len(fin_this_status) > 0:\n",
    "        return len(fin_this_status) \n",
    "    else:\n",
    "        return None\n",
    "    \n",
    "print(fin_status(status_fin, 'active'))\n",
    "print(fin_status(status_fin, 'dissolved'))"
   ]
  },
  {
   "cell_type": "markdown",
   "metadata": {},
   "source": [
    "At the first part of the code, companies were filtered by key words and country. 600 companies from the dataset were pulled with query \"financial services\". From the pulled 600 companies, 186 of them were in England. Finally, the last part of the code shows that 186 of the 102 companies are currently active."
   ]
  },
  {
   "cell_type": "code",
   "execution_count": 6,
   "metadata": {},
   "outputs": [
    {
     "name": "stdout",
     "output_type": "stream",
     "text": [
      "Number of unique elements in the list:  21\n"
     ]
    },
    {
     "data": {
      "text/plain": [
       "<BarContainer object of 21 artists>"
      ]
     },
     "execution_count": 6,
     "metadata": {},
     "output_type": "execute_result"
    },
    {
     "data": {
      "image/png": "[encoded data removed]",
      "text/plain": [
       "<Figure size 432x288 with 1 Axes>"
      ]
     },
     "metadata": {
      "needs_background": "light"
     },
     "output_type": "display_data"
    }
   ],
   "source": [
    "#a variable is created to store a list of years of creation for the financial services companies\n",
    "creation_year_fin=[company['date_of_creation'][0:4] \n",
    "            for company in england_fin]\n",
    "creation_year_fin\n",
    "\n",
    "for i in range(0, len(creation_year_fin)):\n",
    "    creation_year_fin[i] = int(creation_year_fin[i])\n",
    "    \n",
    "number_of_unique_elements = len(set(creation_year_fin))\n",
    "print(\"Number of unique elements in the list: \", number_of_unique_elements)\n",
    "set(creation_year_fin)\n",
    "x = Counter(creation_year_fin)\n",
    "plt.bar(x.keys(), x.values())"
   ]
  },
  {
   "cell_type": "markdown",
   "metadata": {},
   "source": [
    "The graph above illustrates how many companies were founded each year. To achieve this graph, X variable is defined as a Counter class. Then the graph is plotted with keys and values of X."
   ]
  },
  {
   "cell_type": "code",
   "execution_count": 7,
   "metadata": {},
   "outputs": [
    {
     "name": "stdout",
     "output_type": "stream",
     "text": [
      "42\n"
     ]
    }
   ],
   "source": [
    "#the year of cessation of financial services companies that are dissolved are appended to ces_years_fin list\n",
    "#for calculation, if the company is not dissolved, 0 is appended instead of the year of cessation\n",
    "ces_years_fin=[]\n",
    "\n",
    "for company in england_fin:\n",
    "                     \n",
    "    if 'date_of_cessation' in company:\n",
    "        ces_years_fin.append(company['date_of_cessation'][0:4]),\n",
    "    else: ces_years_fin.append('0')\n",
    "\n",
    "print(len(ces_years_fin))"
   ]
  },
  {
   "cell_type": "code",
   "execution_count": 8,
   "metadata": {},
   "outputs": [
    {
     "data": {
      "text/plain": [
       "<BarContainer object of 10 artists>"
      ]
     },
     "execution_count": 8,
     "metadata": {},
     "output_type": "execute_result"
    },
    {
     "data": {
      "image/png": "[encoded data removed]",
      "text/plain": [
       "<Figure size 432x288 with 1 Axes>"
      ]
     },
     "metadata": {
      "needs_background": "light"
     },
     "output_type": "display_data"
    }
   ],
   "source": [
    "#Lifespan of all dissolved financial services companies in England is appended to difference_fin list\n",
    "list1 = list(map(int,ces_years_fin))\n",
    "list2= list(map(int,creation_year_fin))\n",
    "\n",
    "difference_fin = []\n",
    "\n",
    "zip_object_fin = zip(list1, list2)\n",
    "for list1_i, list2_i in zip_object_fin:\n",
    "    difference_fin.append(list1_i-list2_i)\n",
    "\n",
    "\n",
    "    for item1 in difference_fin: \n",
    "        if item1 < 0: \n",
    "           difference_fin.remove(item1)\n",
    "#print(difference_fin)\n",
    "y = Counter(difference_fin)\n",
    "plt.bar(y.keys(), y.values())"
   ]
  },
  {
   "cell_type": "markdown",
   "metadata": {},
   "source": [
    "Lifespan of the dissolved companies are shown in the graph above. It can be seen that newly established financial services companies dissolve within the first five years."
   ]
  },
  {
   "cell_type": "code",
   "execution_count": 9,
   "metadata": {},
   "outputs": [
    {
     "name": "stdout",
     "output_type": "stream",
     "text": [
      "12\n"
     ]
    }
   ],
   "source": [
    "recent_fin=[]\n",
    "for company in england_fin:\n",
    "    if 'date_of_cessation' in company:\n",
    "        if company['date_of_cessation'][0:4] in [\"2017\", \"2018\", \"2019\", \"2020\", \"2021\"]:\n",
    "            recent_fin.append(company)\n",
    "print(len(recent_fin))            \n",
    "#between 2017 and 2021, 66 financial services companies were shut down"
   ]
  },
  {
   "cell_type": "code",
   "execution_count": 10,
   "metadata": {},
   "outputs": [
    {
     "name": "stdout",
     "output_type": "stream",
     "text": [
      "2017: 2 \n",
      " 2018: 3 \n",
      " 2019: 2 \n",
      " 2020: 1 \n",
      " 2021: 1\n"
     ]
    }
   ],
   "source": [
    "founded_17, founded_18, founded_19, founded_20, founded_21 = ([] for i in range(5)) \n",
    "\n",
    "for company in england_fin:\n",
    "    if company['date_of_creation'][0:4] == \"2017\":\n",
    "        founded_17.append(company)\n",
    "\n",
    "for company in england_fin:\n",
    "    if company['date_of_creation'][0:4] == \"2018\":\n",
    "        founded_18.append(company)\n",
    "\n",
    "for company in england_fin:\n",
    "    if company['date_of_creation'][0:4] == \"2019\":\n",
    "        founded_19.append(company)\n",
    "            \n",
    "for company in england_fin:\n",
    "    if company['date_of_creation'][0:4] == \"2020\":\n",
    "        founded_20.append(company)\n",
    "            \n",
    "for company in england_fin:\n",
    "    if company['date_of_creation'][0:4] == \"2021\":\n",
    "        founded_21.append(company)\n",
    "          \n",
    "                \n",
    "print(\"2017:\", len(founded_17), \"\\n\", \"2018:\", len(founded_18), \"\\n\", \"2019:\", len(founded_19), \"\\n\", \"2020:\", len(founded_20), \"\\n\", \"2021:\", len(founded_21))\n",
    "#number of companies that were founded down each year are appended to seperated lists"
   ]
  },
  {
   "cell_type": "code",
   "execution_count": 11,
   "metadata": {},
   "outputs": [
    {
     "name": "stdout",
     "output_type": "stream",
     "text": [
      "2017: 3 \n",
      " 2018: 3 \n",
      " 2019: 3 \n",
      " 2020: 0 \n",
      " 2021: 3\n"
     ]
    }
   ],
   "source": [
    "close_year_fin=[]\n",
    "closed_17, closed_18, closed_19, closed_20, closed_21 = ([] for i in range(5)) \n",
    "\n",
    "for company in england_fin:\n",
    "    if 'date_of_cessation' in company:\n",
    "        if company['date_of_cessation'][0:4] == \"2017\":\n",
    "            closed_17.append(company)\n",
    "\n",
    "for company in england_fin:\n",
    "    if 'date_of_cessation' in company:\n",
    "        if company['date_of_cessation'][0:4] == \"2018\":\n",
    "            closed_18.append(company)\n",
    "\n",
    "for company in england_fin:\n",
    "    if 'date_of_cessation' in company:\n",
    "        if company['date_of_cessation'][0:4] == \"2019\":\n",
    "            closed_19.append(company)\n",
    "            \n",
    "for company in england_fin:\n",
    "    if 'date_of_cessation' in company:\n",
    "        if company['date_of_cessation'][0:4] == \"2020\":\n",
    "            closed_20.append(company)\n",
    "            \n",
    "for company in england_fin:\n",
    "    if 'date_of_cessation' in company:\n",
    "        if company['date_of_cessation'][0:4] == \"2021\":\n",
    "            closed_21.append(company)\n",
    "          \n",
    "                \n",
    "print(\"2017:\", len(closed_17), \"\\n\", \"2018:\", len(closed_18), \"\\n\", \"2019:\", len(closed_19), \"\\n\", \"2020:\", len(closed_20), \"\\n\", \"2021:\", len(closed_21))\n",
    "#number of companies that were shut down each year"
   ]
  },
  {
   "cell_type": "code",
   "execution_count": 12,
   "metadata": {},
   "outputs": [
    {
     "name": "stdout",
     "output_type": "stream",
     "text": [
      "9\n"
     ]
    }
   ],
   "source": [
    "recent_fin1 = []\n",
    "for company in england_fin:\n",
    "    if company['date_of_creation'][0:4] in [\"2017\", \"2018\", \"2019\", \"2020\", \"2021\"]:\n",
    "        recent_fin1.append(company)\n",
    "            \n",
    "print(len(recent_fin1))\n",
    "#We have filtered the financial services companies that were created between 2017 and 2021"
   ]
  },
  {
   "cell_type": "code",
   "execution_count": 13,
   "metadata": {},
   "outputs": [
    {
     "name": "stdout",
     "output_type": "stream",
     "text": [
      "4\n"
     ]
    }
   ],
   "source": [
    "dissolved_recent_fin1 = []\n",
    "\n",
    "for company in recent_fin1:\n",
    "    if 'date_of_cessation' in company:\n",
    "        dissolved_recent_fin1.append(company)\n",
    "        \n",
    "print(len(dissolved_recent_fin1))\n",
    "#Below are the cafes that were created in last 3 years and shut down after"
   ]
  },
  {
   "cell_type": "code",
   "execution_count": 14,
   "metadata": {},
   "outputs": [
    {
     "name": "stdout",
     "output_type": "stream",
     "text": [
      "9\n",
      "4\n"
     ]
    }
   ],
   "source": [
    "print(len(recent_fin1))\n",
    "print(len(dissolved_recent_fin1))\n",
    "#From the 54 financial services companies that are founded between 2017 and 2021, 18 of them are closed"
   ]
  },
  {
   "cell_type": "code",
   "execution_count": 15,
   "metadata": {},
   "outputs": [
    {
     "data": {
      "image/png": "[encoded data removed]",
      "text/plain": [
       "<Figure size 432x288 with 1 Axes>"
      ]
     },
     "metadata": {
      "needs_background": "light"
     },
     "output_type": "display_data"
    }
   ],
   "source": [
    "#Bar Graph of companies\n",
    "x = [len(founded_17), len(founded_18), len(founded_19), len(founded_20), len(founded_21)]\n",
    "y = [len(closed_17), len(closed_18), len(closed_19), len(closed_20), len(closed_21)]\n",
    "z = ['2017', '2018', '2019', '2020', '2021']\n",
    "  \n",
    "z_axis = np.arange(len(z))\n",
    "  \n",
    "plt.bar(z_axis - 0.2, x, 0.4, label = 'Companies opened', color = 'lightblue', edgecolor = 'white' )\n",
    "plt.bar(z_axis + 0.2, y, 0.4, label = 'Companies closed', color = 'red', edgecolor = 'white')\n",
    "  \n",
    "plt.xticks(z_axis, z)\n",
    "plt.xlabel(\"Years\")\n",
    "plt.ylabel(\"Number of Companies\")\n",
    "plt.title(\"Comparison of companies established and dissolved\")\n",
    "plt.legend()\n",
    "plt.show()"
   ]
  },
  {
   "cell_type": "markdown",
   "metadata": {},
   "source": [
    "Brexit, which was a withdrawal of the United Kingdom from the European Union, has impacted the country by all means. Many sectors are affected, and the financial services sector is among the worst. Hence in this code, financial services companies founded in England are examined. For the data, the Companies House dataset is used. First, the data is explored with the help of graphs and other code outputs (how many companies are founded/dissolved each year, the total number of companies that are founded/dissolved between specific years). Between 2017 (the year when Brexit was first discussed) and 2021, 54 companies were established. However, 18 of these companies were dissolved. If the companies founded before 2017 are taken into account, the dissolved company number jumps to 66. The bar chart at the end of the code implies that between 2019 (the year Brexit was accepted) and 2021, the number of dissolved/founded companies rose from the previous two years. It can be concluded that Brexit influenced the financial services sector; however, companies founded before 2017 performed worse than those founded after 2017. "
   ]
  },
  {
   "cell_type": "markdown",
   "metadata": {},
   "source": [
    "# Question 2: What is the best place in UK to open a kebab restaurant?"
   ]
  },
  {
   "cell_type": "code",
   "execution_count": 16,
   "metadata": {},
   "outputs": [
    {
     "name": "stdout",
     "output_type": "stream",
     "text": [
      "requesting: https://api.companieshouse.gov.uk/search/companies?q=kebab&items_per_page=100&start_index=0\n",
      "requesting: https://api.companieshouse.gov.uk/search/companies?q=kebab&items_per_page=100&start_index=100\n",
      "requesting: https://api.companieshouse.gov.uk/search/companies?q=kebab&items_per_page=100&start_index=200\n",
      "requesting: https://api.companieshouse.gov.uk/search/companies?q=kebab&items_per_page=100&start_index=300\n",
      "requesting: https://api.companieshouse.gov.uk/search/companies?q=kebab&items_per_page=100&start_index=400\n",
      "requesting: https://api.companieshouse.gov.uk/search/companies?q=kebab&items_per_page=100&start_index=500\n",
      "requesting: https://api.companieshouse.gov.uk/search/companies?q=kebab&items_per_page=100&start_index=600\n",
      "requesting: https://api.companieshouse.gov.uk/search/companies?q=kebab&items_per_page=100&start_index=700\n",
      "requesting: https://api.companieshouse.gov.uk/search/companies?q=kebab&items_per_page=100&start_index=800\n",
      "requesting: https://api.companieshouse.gov.uk/search/companies?q=kebab&items_per_page=100&start_index=900\n",
      "1000\n"
     ]
    }
   ],
   "source": [
    "kebab_rest = search_for_companies_with_query(\"kebab\", 1000)\n",
    "pp.pprint(len(kebab_rest))"
   ]
  },
  {
   "cell_type": "code",
   "execution_count": 17,
   "metadata": {},
   "outputs": [],
   "source": [
    "rest = []\n",
    "for restaurant in kebab_rest:\n",
    "    if 'locality' in restaurant[\"address\"]:\n",
    "        rest.append(restaurant)\n",
    "#print(len(rest))            \n",
    "#rest\n",
    "#to filter restaurants based on the locations, we listed restaurants with known localities"
   ]
  },
  {
   "cell_type": "code",
   "execution_count": 18,
   "metadata": {},
   "outputs": [],
   "source": [
    "cities = []\n",
    "for restaurant in kebab_rest:\n",
    "    if 'locality' in restaurant[\"address\"]:\n",
    "        cities.append(restaurant[\"address\"][\"locality\"])\n",
    "        \n",
    "#a list is created to store the localities of the kebab restaurants."
   ]
  },
  {
   "cell_type": "code",
   "execution_count": 19,
   "metadata": {},
   "outputs": [],
   "source": [
    "x = Counter(cities)\n",
    "#x.most_common()"
   ]
  },
  {
   "cell_type": "code",
   "execution_count": 20,
   "metadata": {},
   "outputs": [],
   "source": [
    "kebab_london = []\n",
    "\n",
    "for restaurant in kebab_rest:\n",
    "    if 'locality' in restaurant[\"address\"]:\n",
    "        if restaurant[\"address\"][\"locality\"] == \"London\":\n",
    "            kebab_london.append(restaurant)\n",
    "\n",
    "#kebab restaurants that are located in London are added to a seperate list"
   ]
  },
  {
   "cell_type": "code",
   "execution_count": 21,
   "metadata": {},
   "outputs": [
    {
     "name": "stdout",
     "output_type": "stream",
     "text": [
      "Number of closed kebab restaurants in London: 67\n",
      "Number of closed kebab restaurants in london: 167\n"
     ]
    },
    {
     "data": {
      "image/png": "[encoded data removed]",
      "text/plain": [
       "<Figure size 432x288 with 2 Axes>"
      ]
     },
     "metadata": {
      "needs_background": "light"
     },
     "output_type": "display_data"
    }
   ],
   "source": [
    "closed_london_kebab = []\n",
    "opened_london_kebab = []\n",
    "\n",
    "for restaurant in kebab_london:\n",
    "    if \"date_of_cessation\" in restaurant:\n",
    "        closed_london_kebab.append(restaurant[\"date_of_cessation\"][0:4])\n",
    "        \n",
    "print(\"Number of closed kebab restaurants in London:\", len(closed_london_kebab))\n",
    "set(closed_london_kebab)\n",
    "x = Counter(closed_london_kebab)\n",
    "\n",
    "for restaurant in kebab_london:\n",
    "    opened_london_kebab.append(restaurant[\"date_of_creation\"][0:4])\n",
    "    \n",
    "print(\"Number of closed kebab restaurants in london:\", len(opened_london_kebab))\n",
    "set(opened_london_kebab)\n",
    "y = Counter(opened_london_kebab)\n",
    "\n",
    "plt.subplot(2, 1, 1)\n",
    "plt.title(\"Number of kebab restaurants closed per year in London\")\n",
    "plt.xlabel(\"Years\")\n",
    "plt.bar(sorted(x.keys()), sorted(x.values()))\n",
    "\n",
    "plt.subplot(2, 1, 2)\n",
    "plt.title(\"Number of kebab restaurants opened per year in london\")\n",
    "plt.xlabel(\"Years\")\n",
    "plt.bar(sorted(y.keys()), sorted(y.values()))\n",
    "\n",
    "plt.subplots_adjust(left=0.1,\n",
    "                    bottom=0.3, \n",
    "                    right=2, \n",
    "                    top=1.5, \n",
    "                    wspace=0.1, \n",
    "                    hspace=0.8)"
   ]
  },
  {
   "cell_type": "markdown",
   "metadata": {},
   "source": [
    "Bar plots above show the numbers of the yearly opened and closed kebab restaurants. Now, the length of survival will be calculated for the closed kebab restaurants."
   ]
  },
  {
   "cell_type": "code",
   "execution_count": 22,
   "metadata": {},
   "outputs": [],
   "source": [
    "length_of_survival_london = []\n",
    "for restaurant in kebab_london:\n",
    "    if \"date_of_cessation\" in restaurant:\n",
    "        x = int(restaurant[\"date_of_cessation\"][0:4])\n",
    "        y = int(restaurant[\"date_of_creation\"][0:4])\n",
    "        z = x - y\n",
    "        length_of_survival_london.append(z)\n",
    "\n",
    "x = Counter(length_of_survival_london)"
   ]
  },
  {
   "cell_type": "markdown",
   "metadata": {},
   "source": [
    "Same procedure will be followed for Birmingham, Manchester and Glasgow"
   ]
  },
  {
   "cell_type": "code",
   "execution_count": 23,
   "metadata": {},
   "outputs": [],
   "source": [
    "kebab_birmingham = []\n",
    "\n",
    "for restaurant in kebab_rest:\n",
    "    if 'locality' in restaurant[\"address\"]:\n",
    "        if restaurant[\"address\"][\"locality\"] == \"Birmingham\":\n",
    "            kebab_birmingham.append(restaurant)"
   ]
  },
  {
   "cell_type": "code",
   "execution_count": 24,
   "metadata": {},
   "outputs": [
    {
     "name": "stdout",
     "output_type": "stream",
     "text": [
      "Number of closed kebab restaurants in Birmingham: 9\n",
      "Number of currrently active or closed kebab restaurants in Birmingham: 25\n"
     ]
    },
    {
     "data": {
      "image/png": "[encoded data removed]",
      "text/plain": [
       "<Figure size 432x288 with 2 Axes>"
      ]
     },
     "metadata": {
      "needs_background": "light"
     },
     "output_type": "display_data"
    }
   ],
   "source": [
    "closed_birmingham_kebab = []\n",
    "opened_birmingham_kebab = []\n",
    "\n",
    "for restaurant in kebab_birmingham:\n",
    "    if \"date_of_cessation\" in restaurant:\n",
    "        closed_birmingham_kebab.append(restaurant[\"date_of_cessation\"][0:4])\n",
    "\n",
    "print(\"Number of closed kebab restaurants in Birmingham:\", len(closed_birmingham_kebab))\n",
    "set(closed_birmingham_kebab)\n",
    "x = Counter(closed_birmingham_kebab)\n",
    "\n",
    "for restaurant in kebab_birmingham:\n",
    "    opened_birmingham_kebab.append(restaurant[\"date_of_creation\"][0:4])\n",
    "    \n",
    "print(\"Number of currrently active or closed kebab restaurants in Birmingham:\", len(opened_birmingham_kebab))\n",
    "set(opened_birmingham_kebab)\n",
    "y = Counter(opened_birmingham_kebab)\n",
    "\n",
    "plt.subplot(2, 1, 1)\n",
    "plt.title(\"Number of kebab restaurants closed per year in Birmingham\")\n",
    "plt.xlabel(\"Years\")\n",
    "plt.bar(sorted(x.keys()), sorted(x.values()))\n",
    "\n",
    "plt.subplot(2, 1, 2)\n",
    "plt.title(\"Number of kebab restaurants opened per year in Birmingham\")\n",
    "plt.xlabel(\"Years\")\n",
    "plt.bar(sorted(y.keys()), sorted(y.values()))\n",
    "\n",
    "plt.subplots_adjust(left=0.1,\n",
    "                    bottom=0.3, \n",
    "                    right=2, \n",
    "                    top=1.5, \n",
    "                    wspace=0.1, \n",
    "                    hspace=0.8)"
   ]
  },
  {
   "cell_type": "code",
   "execution_count": 25,
   "metadata": {},
   "outputs": [
    {
     "data": {
      "text/plain": [
       "[(0, 1), (1, 2), (2, 4), (3, 1), (5, 1)]"
      ]
     },
     "execution_count": 25,
     "metadata": {},
     "output_type": "execute_result"
    }
   ],
   "source": [
    "length_of_survival_bir = []\n",
    "for restaurant in kebab_birmingham:\n",
    "    if \"date_of_cessation\" in restaurant:\n",
    "        x = int(restaurant[\"date_of_cessation\"][0:4])\n",
    "        y = int(restaurant[\"date_of_creation\"][0:4])\n",
    "        z = x - y\n",
    "        length_of_survival_bir.append(z)\n",
    "\n",
    "x = Counter(length_of_survival_bir)\n",
    "sorted(x.items())"
   ]
  },
  {
   "cell_type": "code",
   "execution_count": 26,
   "metadata": {},
   "outputs": [
    {
     "data": {
      "text/plain": [
       "26"
      ]
     },
     "execution_count": 26,
     "metadata": {},
     "output_type": "execute_result"
    }
   ],
   "source": [
    "kebab_man = []\n",
    "\n",
    "for restaurant in kebab_rest:\n",
    "    if 'locality' in restaurant[\"address\"]:\n",
    "        if restaurant[\"address\"][\"locality\"] == \"Manchester\":\n",
    "            kebab_man.append(restaurant)\n",
    "            \n",
    "len(kebab_man)"
   ]
  },
  {
   "cell_type": "code",
   "execution_count": 27,
   "metadata": {},
   "outputs": [
    {
     "name": "stdout",
     "output_type": "stream",
     "text": [
      "Number of closed kebab restaurants: 13\n",
      "Number of currrently active or closed kebab restaurants: 26\n"
     ]
    },
    {
     "data": {
      "image/png": "[encoded data removed]",
      "text/plain": [
       "<Figure size 432x288 with 2 Axes>"
      ]
     },
     "metadata": {
      "needs_background": "light"
     },
     "output_type": "display_data"
    }
   ],
   "source": [
    "closed_man_kebab = []\n",
    "opened_man_kebab = []\n",
    "\n",
    "for restaurant in kebab_man:\n",
    "    if \"date_of_cessation\" in restaurant:\n",
    "        closed_man_kebab.append(restaurant[\"date_of_cessation\"][0:4])\n",
    "        \n",
    "print(\"Number of closed kebab restaurants:\", len(closed_man_kebab))\n",
    "set(closed_man_kebab)\n",
    "x = Counter(closed_man_kebab)\n",
    "\n",
    "for restaurant in kebab_man:\n",
    "    opened_man_kebab.append(restaurant[\"date_of_creation\"][0:4])\n",
    "    \n",
    "print(\"Number of currrently active or closed kebab restaurants:\", len(opened_man_kebab))\n",
    "set(opened_man_kebab)\n",
    "y = Counter(opened_man_kebab)\n",
    "\n",
    "plt.subplot(2, 1, 1)\n",
    "plt.title(\"Number of kebab restaurants closed per year in Manchester\")\n",
    "plt.xlabel(\"Years\")\n",
    "plt.bar(sorted(x.keys()), sorted(x.values()))\n",
    "\n",
    "plt.subplot(2, 1, 2)\n",
    "plt.title(\"Number of kebab restaurants opened per year in Manchester\")\n",
    "plt.xlabel(\"Years\")\n",
    "plt.bar(sorted(y.keys()), sorted(y.values()))\n",
    "\n",
    "plt.subplots_adjust(left=0.1,\n",
    "                    bottom=0.3, \n",
    "                    right=2, \n",
    "                    top=1.5, \n",
    "                    wspace=0.1, \n",
    "                    hspace=0.8)"
   ]
  },
  {
   "cell_type": "code",
   "execution_count": 28,
   "metadata": {},
   "outputs": [
    {
     "data": {
      "text/plain": [
       "[(0, 1), (1, 6), (2, 2), (3, 1), (4, 1), (5, 1), (6, 1)]"
      ]
     },
     "execution_count": 28,
     "metadata": {},
     "output_type": "execute_result"
    }
   ],
   "source": [
    "length_of_survival_man = []\n",
    "for restaurant in kebab_man:\n",
    "    if \"date_of_cessation\" in restaurant:\n",
    "        x = int(restaurant[\"date_of_cessation\"][0:4])\n",
    "        y = int(restaurant[\"date_of_creation\"][0:4])\n",
    "        z = x - y\n",
    "        length_of_survival_man.append(z)\n",
    "\n",
    "x = Counter(length_of_survival_man)\n",
    "sorted(x.items())"
   ]
  },
  {
   "cell_type": "code",
   "execution_count": 29,
   "metadata": {},
   "outputs": [],
   "source": [
    "kebab_gla = []\n",
    "\n",
    "for restaurant in kebab_rest:\n",
    "    if 'locality' in restaurant[\"address\"]:\n",
    "        if restaurant[\"address\"][\"locality\"] == \"Glasgow\":\n",
    "            kebab_gla.append(restaurant)\n",
    "            "
   ]
  },
  {
   "cell_type": "code",
   "execution_count": 30,
   "metadata": {},
   "outputs": [
    {
     "name": "stdout",
     "output_type": "stream",
     "text": [
      "Number of closed kebab restaurants in Glasgow: 13\n",
      "Number of currrently active or closed kebab restaurants in Glasgow: 21\n"
     ]
    },
    {
     "data": {
      "image/png": "[encoded data removed]",
      "text/plain": [
       "<Figure size 432x288 with 2 Axes>"
      ]
     },
     "metadata": {
      "needs_background": "light"
     },
     "output_type": "display_data"
    }
   ],
   "source": [
    "closed_gla_kebab = []\n",
    "opened_gla_kebab = []\n",
    "\n",
    "for restaurant in kebab_gla:\n",
    "    if \"date_of_cessation\" in restaurant:\n",
    "        closed_gla_kebab.append(restaurant[\"date_of_cessation\"][0:4])\n",
    "        \n",
    "print(\"Number of closed kebab restaurants in Glasgow:\", len(closed_gla_kebab))\n",
    "set(closed_gla_kebab)\n",
    "x = Counter(closed_gla_kebab)\n",
    "\n",
    "for restaurant in kebab_gla:\n",
    "    opened_gla_kebab.append(restaurant[\"date_of_creation\"][0:4])\n",
    "    \n",
    "print(\"Number of currrently active or closed kebab restaurants in Glasgow:\", len(opened_gla_kebab))\n",
    "set(opened_gla_kebab)\n",
    "y = Counter(opened_gla_kebab)\n",
    "\n",
    "plt.subplot(2, 1, 1)\n",
    "plt.title(\"Number of kebab restaurants closed per year in Glasgow\")\n",
    "plt.xlabel(\"Years\")\n",
    "plt.bar(sorted(x.keys()), sorted(x.values()))\n",
    "\n",
    "plt.subplot(2, 1, 2)\n",
    "plt.title(\"Number of kebab restaurants opened per year in Glasgow\")\n",
    "plt.xlabel(\"Years\")\n",
    "plt.bar(sorted(y.keys()), sorted(y.values()))\n",
    "\n",
    "plt.subplots_adjust(left=0.1,\n",
    "                    bottom=0.3, \n",
    "                    right=2, \n",
    "                    top=1.5, \n",
    "                    wspace=0.1, \n",
    "                    hspace=0.8)"
   ]
  },
  {
   "cell_type": "code",
   "execution_count": 31,
   "metadata": {},
   "outputs": [
    {
     "data": {
      "text/plain": [
       "[(1, 1), (2, 5), (4, 4), (5, 1), (7, 1), (8, 1)]"
      ]
     },
     "execution_count": 31,
     "metadata": {},
     "output_type": "execute_result"
    }
   ],
   "source": [
    "length_of_survival_gla = []\n",
    "for restaurant in kebab_gla:\n",
    "    if \"date_of_cessation\" in restaurant:\n",
    "        x = int(restaurant[\"date_of_cessation\"][0:4])\n",
    "        y = int(restaurant[\"date_of_creation\"][0:4])\n",
    "        z = x - y\n",
    "        length_of_survival_gla.append(z)\n",
    "\n",
    "x = Counter(length_of_survival_gla)\n",
    "sorted(x.items())"
   ]
  },
  {
   "cell_type": "markdown",
   "metadata": {},
   "source": [
    "Opening a restaurant is a risky business decision. There are many factors needed to be considered. Investing in a new restaurant can be rewarding if the location is chosen accordingly. For this assignment, the data of 1000 kebab restaurants in the U.K. are pulled from the Companies House dataset. Out of 1000 restaurants, 176, 26, 24, and 19 were in London, Birmingham, Manchester, and Glasgow, respectfully. When combined, nearly a quarter of the total restaurants are located in these four cities. For London, 62 of the 176 (35.22%) restaurants were shut down at some point. From the box plot in code, it can be seen that in 2021, the shutdowns have risen dramatically from the previous years. 20 of the 62 closed restaurants were closed within their first year of establishment. Birmingham performs slightly better in the closed/(total restaurants) ratio with 30.76%. Among the closed restaurants in Birmingham, the majority ended operations after three years of opening. For Manchester and Glasgow, closed/(total restaurants) ratios are 50% and 63% respectively, The closure of even long-running restaurants in Manchester and Glasgow will negatively affect investors. Given current statistics, Birmingham is the best option for kebab restaurant investment."
   ]
  },
  {
   "cell_type": "markdown",
   "metadata": {},
   "source": [
    "# Question 3: Is Lifespan of Cryptocurrency Companies Short?"
   ]
  },
  {
   "cell_type": "code",
   "execution_count": 32,
   "metadata": {},
   "outputs": [
    {
     "name": "stdout",
     "output_type": "stream",
     "text": [
      "requesting: https://api.companieshouse.gov.uk/search/companies?q=crypto&items_per_page=100&start_index=0\n",
      "requesting: https://api.companieshouse.gov.uk/search/companies?q=crypto&items_per_page=100&start_index=100\n",
      "requesting: https://api.companieshouse.gov.uk/search/companies?q=crypto&items_per_page=100&start_index=200\n",
      "status code is not 'SUCCESS 200'. Will wait 20 seconds\n",
      "requesting: https://api.companieshouse.gov.uk/search/companies?q=crypto&items_per_page=100&start_index=200\n",
      "requesting: https://api.companieshouse.gov.uk/search/companies?q=crypto&items_per_page=100&start_index=300\n",
      "requesting: https://api.companieshouse.gov.uk/search/companies?q=crypto&items_per_page=100&start_index=400\n",
      "requesting: https://api.companieshouse.gov.uk/search/companies?q=crypto&items_per_page=100&start_index=500\n",
      "requesting: https://api.companieshouse.gov.uk/search/companies?q=crypto&items_per_page=100&start_index=600\n",
      "requesting: https://api.companieshouse.gov.uk/search/companies?q=crypto&items_per_page=100&start_index=700\n",
      "requesting: https://api.companieshouse.gov.uk/search/companies?q=crypto&items_per_page=100&start_index=800\n",
      "requesting: https://api.companieshouse.gov.uk/search/companies?q=gold&items_per_page=100&start_index=0\n",
      "requesting: https://api.companieshouse.gov.uk/search/companies?q=gold&items_per_page=100&start_index=100\n",
      "requesting: https://api.companieshouse.gov.uk/search/companies?q=gold&items_per_page=100&start_index=200\n",
      "requesting: https://api.companieshouse.gov.uk/search/companies?q=gold&items_per_page=100&start_index=300\n",
      "requesting: https://api.companieshouse.gov.uk/search/companies?q=gold&items_per_page=100&start_index=400\n",
      "requesting: https://api.companieshouse.gov.uk/search/companies?q=gold&items_per_page=100&start_index=500\n",
      "requesting: https://api.companieshouse.gov.uk/search/companies?q=gold&items_per_page=100&start_index=600\n",
      "requesting: https://api.companieshouse.gov.uk/search/companies?q=gold&items_per_page=100&start_index=700\n",
      "requesting: https://api.companieshouse.gov.uk/search/companies?q=gold&items_per_page=100&start_index=800\n"
     ]
    }
   ],
   "source": [
    "crypto_comp = search_for_companies_with_query(\"crypto\", 900)\n",
    "exchange_comp = search_for_companies_with_query(\"gold\", 900)"
   ]
  },
  {
   "cell_type": "code",
   "execution_count": 33,
   "metadata": {},
   "outputs": [],
   "source": [
    "ceased_year_crypto_comp = []\n",
    "founded_year_crypto_comp = []\n",
    "crypto_lifespan = []\n",
    "\n",
    "for company in crypto_comp:\n",
    "    if \"date_of_cessation\" in company:\n",
    "        \n",
    "        ceased_year_crypto_comp.append(company[\"date_of_cessation\"][0:4])\n",
    "        founded_year_crypto_comp.append(company[\"date_of_creation\"][0:4])\n",
    "        crypto_lifespan.append(int(company[\"date_of_cessation\"][0:4]) - int(company[\"date_of_creation\"][0:4]))"
   ]
  },
  {
   "cell_type": "code",
   "execution_count": 34,
   "metadata": {},
   "outputs": [
    {
     "name": "stdout",
     "output_type": "stream",
     "text": [
      "Out of 900 crypto companies, 521 of them were ceased\n",
      "Lifespan of crypto companies are: 1.7562380038387715\n"
     ]
    }
   ],
   "source": [
    "print(\"Out of 900 crypto companies,\", len(ceased_year_crypto_comp), \"of them were ceased\")\n",
    "print(\"Lifespan of crypto companies are:\", mean(crypto_lifespan))"
   ]
  },
  {
   "cell_type": "code",
   "execution_count": 35,
   "metadata": {},
   "outputs": [
    {
     "data": {
      "image/png": "[encoded data removed]",
      "text/plain": [
       "<Figure size 432x288 with 1 Axes>"
      ]
     },
     "metadata": {
      "needs_background": "light"
     },
     "output_type": "display_data"
    }
   ],
   "source": [
    "Counter(founded_year_crypto_comp).most_common()\n",
    "plt.title(\"Creation Years of Crypto Companies\")\n",
    "plt.xlabel(\"Years\")\n",
    "plt.bar(sorted(Counter(founded_year_crypto_comp).keys()), sorted(Counter(founded_year_crypto_comp).values()))\n",
    "plt.subplots_adjust(left=0.1,\n",
    "                    bottom=0.3, \n",
    "                    right=2, \n",
    "                    top=1.5, \n",
    "                    wspace=0.1, \n",
    "                    hspace=0.8)"
   ]
  },
  {
   "cell_type": "code",
   "execution_count": 36,
   "metadata": {},
   "outputs": [
    {
     "data": {
      "text/plain": [
       "<BarContainer object of 10 artists>"
      ]
     },
     "execution_count": 36,
     "metadata": {},
     "output_type": "execute_result"
    },
    {
     "data": {
      "image/png": "[encoded data removed]",
      "text/plain": [
       "<Figure size 432x288 with 1 Axes>"
      ]
     },
     "metadata": {
      "needs_background": "light"
     },
     "output_type": "display_data"
    }
   ],
   "source": [
    "plt.title(\"Lifespan of Crypto Companies\")\n",
    "plt.xlabel(\"Years\")\n",
    "plt.bar((Counter(crypto_lifespan).keys()), (Counter(crypto_lifespan).values()))"
   ]
  },
  {
   "cell_type": "code",
   "execution_count": 37,
   "metadata": {},
   "outputs": [],
   "source": [
    "ceased_year_exchange_comp = []\n",
    "founded_year_exchange_comp = []\n",
    "exchange_lifespan = []\n",
    "\n",
    "for company in exchange_comp:\n",
    "    if \"date_of_cessation\" in company:\n",
    "        \n",
    "        ceased_year_exchange_comp.append(company[\"date_of_cessation\"][0:4])\n",
    "        founded_year_exchange_comp.append(company[\"date_of_creation\"][0:4])\n",
    "        exchange_lifespan.append(int(company[\"date_of_cessation\"][0:4]) - int(company[\"date_of_creation\"][0:4]))"
   ]
  },
  {
   "cell_type": "code",
   "execution_count": 38,
   "metadata": {},
   "outputs": [
    {
     "name": "stdout",
     "output_type": "stream",
     "text": [
      "Out of 900 exchange companies, 93 of them were ceased\n",
      "Lifespan of exchange companies are: 3.032258064516129\n"
     ]
    }
   ],
   "source": [
    "print(\"Out of 900 exchange companies,\", len(ceased_year_exchange_comp), \"of them were ceased\")\n",
    "print(\"Lifespan of exchange companies are:\", mean(exchange_lifespan))"
   ]
  },
  {
   "cell_type": "code",
   "execution_count": 39,
   "metadata": {},
   "outputs": [
    {
     "data": {
      "text/plain": [
       "<BarContainer object of 14 artists>"
      ]
     },
     "execution_count": 39,
     "metadata": {},
     "output_type": "execute_result"
    },
    {
     "data": {
      "image/png": "[encoded data removed]",
      "text/plain": [
       "<Figure size 432x288 with 1 Axes>"
      ]
     },
     "metadata": {
      "needs_background": "light"
     },
     "output_type": "display_data"
    }
   ],
   "source": [
    "plt.title(\"Lifespan of Exchange Companies\")\n",
    "plt.xlabel(\"Years\")\n",
    "plt.bar((Counter(exchange_lifespan).keys()), (Counter(exchange_lifespan).values()))"
   ]
  },
  {
   "cell_type": "code",
   "execution_count": 40,
   "metadata": {},
   "outputs": [
    {
     "data": {
      "image/png": "[encoded data removed]",
      "text/plain": [
       "<Figure size 432x288 with 1 Axes>"
      ]
     },
     "metadata": {
      "needs_background": "light"
     },
     "output_type": "display_data"
    }
   ],
   "source": [
    "Counter(founded_year_exchange_comp).most_common()\n",
    "plt.title(\"Creation Years of Exchange Companies\")\n",
    "plt.xlabel(\"Years\")\n",
    "plt.bar(sorted(Counter(founded_year_exchange_comp).keys()), sorted(Counter(founded_year_exchange_comp).values()))\n",
    "plt.subplots_adjust(left=0.1,\n",
    "                    bottom=0.3, \n",
    "                    right=2, \n",
    "                    top=1.5, \n",
    "                    wspace=0.1, \n",
    "                    hspace=0.8)"
   ]
  },
  {
   "cell_type": "markdown",
   "metadata": {},
   "source": [
    "In recent years, terms such as crypto technology, cryptocurrency, and blockchain have become highly popular worldwide. Started as a decentralized and anonymous way of money transaction, this technology is used by millions of people nowadays, whether the user's goal is making money by trading cryptocurrencies or not. The popularisation of the technology brought many investors to the scene to launch crypto companies; however, not all of them survived many years. In this report, information for crypto and exchange companies was pulled. From the pulled 900 crypto companies, 413 were closed within years, whereas for 900 exchange companies, only 98 were closed. Comparing these two ratios as a percentage, 45.88% of crypto companies and 10.88% of exchange companies were shut down eventually. Lifespans of the closed crypto companies are short; 87% of the ceased crypto companies were shut down within two years of their creation. This percentage is 68% for exchange companies. The average lifespan for closed crypto and exchange companies is 1.75 and 3.14 years, respectively. Statistics generated from the code show that the lifespan of crypto companies is less than exchange companies, and overall, crypto companies perform worse than exchange companies in terms of survival."
   ]
  },
  {
   "cell_type": "code",
   "execution_count": null,
   "metadata": {},
   "outputs": [],
   "source": []
  }
 ],
 "metadata": {
  "kernelspec": {
   "display_name": "Python 3 (ipykernel)",
   "language": "python",
   "name": "python3"
  },
  "language_info": {
   "codemirror_mode": {
    "name": "ipython",
    "version": 3
   },
   "file_extension": ".py",
   "mimetype": "text/x-python",
   "name": "python",
   "nbconvert_exporter": "python",
   "pygments_lexer": "ipython3",
   "version": "3.9.12"
  }
 },
 "nbformat": 4,
 "nbformat_minor": 4
}
